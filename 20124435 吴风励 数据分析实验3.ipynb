{
 "cells": [
  {
   "cell_type": "code",
   "execution_count": 1,
   "id": "6f3b19d0",
   "metadata": {},
   "outputs": [],
   "source": [
    "import numpy as np\n",
    "import pandas as pd\n",
    "from sklearn.model_selection import train_test_split\n",
    "from sklearn.neighbors import KNeighborsClassifier\n",
    "from sklearn.metrics import accuracy_score\n",
    "\n",
    "import matplotlib.pyplot as plt\n",
    "import seaborn as sns\n",
    "import warnings\n",
    "warnings.filterwarnings(\"ignore\")\n",
    "\n",
    "from sklearn.ensemble import ExtraTreesClassifier\n",
    "from sklearn.preprocessing import LabelEncoder, OneHotEncoder\n",
    "from sklearn.preprocessing import MinMaxScaler\n",
    "%matplotlib inline"
   ]
  },
  {
   "cell_type": "code",
   "execution_count": 8,
   "id": "d6df7d29",
   "metadata": {},
   "outputs": [],
   "source": [
    "df=pd.read_csv('D:/german_credit_data.csv')"
   ]
  },
  {
   "cell_type": "code",
   "execution_count": 9,
   "id": "8a457cbd",
   "metadata": {},
   "outputs": [
    {
     "data": {
      "text/html": [
       "<div>\n",
       "<style scoped>\n",
       "    .dataframe tbody tr th:only-of-type {\n",
       "        vertical-align: middle;\n",
       "    }\n",
       "\n",
       "    .dataframe tbody tr th {\n",
       "        vertical-align: top;\n",
       "    }\n",
       "\n",
       "    .dataframe thead th {\n",
       "        text-align: right;\n",
       "    }\n",
       "</style>\n",
       "<table border=\"1\" class=\"dataframe\">\n",
       "  <thead>\n",
       "    <tr style=\"text-align: right;\">\n",
       "      <th></th>\n",
       "      <th>Age</th>\n",
       "      <th>Sex</th>\n",
       "      <th>Job</th>\n",
       "      <th>Housing</th>\n",
       "      <th>Saving accounts</th>\n",
       "      <th>Checking account</th>\n",
       "      <th>Credit amount</th>\n",
       "      <th>Duration</th>\n",
       "      <th>Purpose</th>\n",
       "      <th>Risk</th>\n",
       "    </tr>\n",
       "  </thead>\n",
       "  <tbody>\n",
       "    <tr>\n",
       "      <th>1</th>\n",
       "      <td>22</td>\n",
       "      <td>female</td>\n",
       "      <td>2</td>\n",
       "      <td>own</td>\n",
       "      <td>little</td>\n",
       "      <td>moderate</td>\n",
       "      <td>5951</td>\n",
       "      <td>48</td>\n",
       "      <td>radio/TV</td>\n",
       "      <td>bad</td>\n",
       "    </tr>\n",
       "    <tr>\n",
       "      <th>3</th>\n",
       "      <td>45</td>\n",
       "      <td>male</td>\n",
       "      <td>2</td>\n",
       "      <td>free</td>\n",
       "      <td>little</td>\n",
       "      <td>little</td>\n",
       "      <td>7882</td>\n",
       "      <td>42</td>\n",
       "      <td>furniture/equipment</td>\n",
       "      <td>good</td>\n",
       "    </tr>\n",
       "    <tr>\n",
       "      <th>4</th>\n",
       "      <td>53</td>\n",
       "      <td>male</td>\n",
       "      <td>2</td>\n",
       "      <td>free</td>\n",
       "      <td>little</td>\n",
       "      <td>little</td>\n",
       "      <td>4870</td>\n",
       "      <td>24</td>\n",
       "      <td>car</td>\n",
       "      <td>bad</td>\n",
       "    </tr>\n",
       "    <tr>\n",
       "      <th>7</th>\n",
       "      <td>35</td>\n",
       "      <td>male</td>\n",
       "      <td>3</td>\n",
       "      <td>rent</td>\n",
       "      <td>little</td>\n",
       "      <td>moderate</td>\n",
       "      <td>6948</td>\n",
       "      <td>36</td>\n",
       "      <td>car</td>\n",
       "      <td>good</td>\n",
       "    </tr>\n",
       "    <tr>\n",
       "      <th>9</th>\n",
       "      <td>28</td>\n",
       "      <td>male</td>\n",
       "      <td>3</td>\n",
       "      <td>own</td>\n",
       "      <td>little</td>\n",
       "      <td>moderate</td>\n",
       "      <td>5234</td>\n",
       "      <td>30</td>\n",
       "      <td>car</td>\n",
       "      <td>bad</td>\n",
       "    </tr>\n",
       "    <tr>\n",
       "      <th>...</th>\n",
       "      <td>...</td>\n",
       "      <td>...</td>\n",
       "      <td>...</td>\n",
       "      <td>...</td>\n",
       "      <td>...</td>\n",
       "      <td>...</td>\n",
       "      <td>...</td>\n",
       "      <td>...</td>\n",
       "      <td>...</td>\n",
       "      <td>...</td>\n",
       "    </tr>\n",
       "    <tr>\n",
       "      <th>989</th>\n",
       "      <td>48</td>\n",
       "      <td>male</td>\n",
       "      <td>1</td>\n",
       "      <td>own</td>\n",
       "      <td>little</td>\n",
       "      <td>moderate</td>\n",
       "      <td>1743</td>\n",
       "      <td>24</td>\n",
       "      <td>radio/TV</td>\n",
       "      <td>good</td>\n",
       "    </tr>\n",
       "    <tr>\n",
       "      <th>993</th>\n",
       "      <td>30</td>\n",
       "      <td>male</td>\n",
       "      <td>3</td>\n",
       "      <td>own</td>\n",
       "      <td>little</td>\n",
       "      <td>little</td>\n",
       "      <td>3959</td>\n",
       "      <td>36</td>\n",
       "      <td>furniture/equipment</td>\n",
       "      <td>good</td>\n",
       "    </tr>\n",
       "    <tr>\n",
       "      <th>996</th>\n",
       "      <td>40</td>\n",
       "      <td>male</td>\n",
       "      <td>3</td>\n",
       "      <td>own</td>\n",
       "      <td>little</td>\n",
       "      <td>little</td>\n",
       "      <td>3857</td>\n",
       "      <td>30</td>\n",
       "      <td>car</td>\n",
       "      <td>good</td>\n",
       "    </tr>\n",
       "    <tr>\n",
       "      <th>998</th>\n",
       "      <td>23</td>\n",
       "      <td>male</td>\n",
       "      <td>2</td>\n",
       "      <td>free</td>\n",
       "      <td>little</td>\n",
       "      <td>little</td>\n",
       "      <td>1845</td>\n",
       "      <td>45</td>\n",
       "      <td>radio/TV</td>\n",
       "      <td>bad</td>\n",
       "    </tr>\n",
       "    <tr>\n",
       "      <th>999</th>\n",
       "      <td>27</td>\n",
       "      <td>male</td>\n",
       "      <td>2</td>\n",
       "      <td>own</td>\n",
       "      <td>moderate</td>\n",
       "      <td>moderate</td>\n",
       "      <td>4576</td>\n",
       "      <td>45</td>\n",
       "      <td>car</td>\n",
       "      <td>good</td>\n",
       "    </tr>\n",
       "  </tbody>\n",
       "</table>\n",
       "<p>522 rows × 10 columns</p>\n",
       "</div>"
      ],
      "text/plain": [
       "     Age     Sex  Job Housing Saving accounts Checking account  Credit amount  \\\n",
       "1     22  female    2     own          little         moderate           5951   \n",
       "3     45    male    2    free          little           little           7882   \n",
       "4     53    male    2    free          little           little           4870   \n",
       "7     35    male    3    rent          little         moderate           6948   \n",
       "9     28    male    3     own          little         moderate           5234   \n",
       "..   ...     ...  ...     ...             ...              ...            ...   \n",
       "989   48    male    1     own          little         moderate           1743   \n",
       "993   30    male    3     own          little           little           3959   \n",
       "996   40    male    3     own          little           little           3857   \n",
       "998   23    male    2    free          little           little           1845   \n",
       "999   27    male    2     own        moderate         moderate           4576   \n",
       "\n",
       "     Duration              Purpose  Risk  \n",
       "1          48             radio/TV   bad  \n",
       "3          42  furniture/equipment  good  \n",
       "4          24                  car   bad  \n",
       "7          36                  car  good  \n",
       "9          30                  car   bad  \n",
       "..        ...                  ...   ...  \n",
       "989        24             radio/TV  good  \n",
       "993        36  furniture/equipment  good  \n",
       "996        30                  car  good  \n",
       "998        45             radio/TV   bad  \n",
       "999        45                  car  good  \n",
       "\n",
       "[522 rows x 10 columns]"
      ]
     },
     "execution_count": 9,
     "metadata": {},
     "output_type": "execute_result"
    }
   ],
   "source": [
    "# 数据清洗\n",
    "df.drop_duplicates(inplace=True) # 去除重复数据\n",
    "df=df.dropna(how='any') # 去除空数据\n",
    "df"
   ]
  },
  {
   "cell_type": "code",
   "execution_count": 10,
   "id": "709e0bd1",
   "metadata": {
    "scrolled": true
   },
   "outputs": [
    {
     "name": "stdout",
     "output_type": "stream",
     "text": [
      "count     522\n",
      "unique      3\n",
      "top       own\n",
      "freq      349\n",
      "Name: Housing, dtype: object \n",
      "\n",
      "count    522.000000\n",
      "mean       1.875479\n",
      "std        0.682811\n",
      "min        0.000000\n",
      "25%        2.000000\n",
      "50%        2.000000\n",
      "75%        2.000000\n",
      "max        3.000000\n",
      "Name: Job, dtype: float64 \n",
      "\n",
      "count        522\n",
      "unique         4\n",
      "top       little\n",
      "freq         412\n",
      "Name: Saving accounts, dtype: object \n",
      "\n",
      "count        522\n",
      "unique         3\n",
      "top       little\n",
      "freq         245\n",
      "Name: Checking account, dtype: object \n",
      "\n",
      "count     522\n",
      "unique      8\n",
      "top       car\n",
      "freq      173\n",
      "Name: Purpose, dtype: object \n",
      "\n"
     ]
    }
   ],
   "source": [
    "# 数据分布分析\n",
    "print(df[\"Housing\"].describe(),'\\n')\n",
    "print(df[\"Job\"].describe(),'\\n')\n",
    "print(df[\"Saving accounts\"].describe(),'\\n')\n",
    "print(df[\"Checking account\"].describe(),'\\n')\n",
    "print(df[\"Purpose\"].describe(),'\\n')"
   ]
  },
  {
   "cell_type": "code",
   "execution_count": 11,
   "id": "65de46e9",
   "metadata": {},
   "outputs": [
    {
     "name": "stdout",
     "output_type": "stream",
     "text": [
      "数据集样本数：522，训练集样本数：391，测试集样本数：131\n"
     ]
    }
   ],
   "source": [
    "# 划分数据集\n",
    "X = df.drop(['Risk'], axis=1)\n",
    "y = df['Risk']\n",
    "\n",
    "X_train, X_test, y_train, y_test = train_test_split(X, y, test_size=1/4, random_state=0)\n",
    "\n",
    "print('数据集样本数：{}，训练集样本数：{}，测试集样本数：{}'.format(len(X), len(X_train), len(X_test)))"
   ]
  },
  {
   "cell_type": "code",
   "execution_count": 12,
   "id": "5d8beb11",
   "metadata": {
    "scrolled": true
   },
   "outputs": [
    {
     "name": "stdout",
     "output_type": "stream",
     "text": [
      "[[   0    1   47 ...  731    8    1]\n",
      " [   0    1   40 ...  684   12    3]\n",
      " [   1    0   25 ... 4736   24    4]\n",
      " ...\n",
      " [   1    0   28 ... 1403   15    1]\n",
      " [   0    1   64 ... 2384   24    5]\n",
      " [   0    1   23 ... 1246   24    1]]\n"
     ]
    }
   ],
   "source": [
    "# 特征工程\n",
    "# 在训练集上进行编码操作\n",
    "\n",
    "label_enc1 = LabelEncoder() # 将Sex的特征用数字编码\n",
    "one_hot_enc = OneHotEncoder() # 转换为独热编码\n",
    "Sex_tmp = label_enc1.fit_transform(X_train['Sex']).reshape(-1, 1) # reshape(-1, 1)保证为一维列向量\n",
    "Sex = one_hot_enc.fit_transform(Sex_tmp)\n",
    "Sex = Sex.todense()\n",
    "\n",
    "label_enc2 = LabelEncoder() # 将Housing的特征用数字编码\n",
    "X_train['Housing'] = label_enc2.fit_transform(X_train['Housing']).reshape(-1, 1)\n",
    "\n",
    "label_enc3 = LabelEncoder() # 将Saving accounts的特征用数字编码\n",
    "X_train['Saving accounts'] = label_enc3.fit_transform(X_train['Saving accounts']).reshape(-1, 1)\n",
    "\n",
    "label_enc4 = LabelEncoder() # 将Checking account的特征用数字编码\n",
    "X_train['Checking account'] = label_enc3.fit_transform(X_train['Checking account']).reshape(-1, 1)\n",
    "\n",
    "label_enc5 = LabelEncoder() # 将Purpose的特征用数字编码\n",
    "X_train['Purpose'] = label_enc5.fit_transform(X_train['Purpose']).reshape(-1, 1)\n",
    "\n",
    "X_train.drop(['Sex'],axis=1, inplace=True)\n",
    "X_train = np.hstack((Sex, X_train))\n",
    "X_train = X_train.astype(np.int32)\n",
    "print(X_train)"
   ]
  },
  {
   "cell_type": "code",
   "execution_count": 13,
   "id": "b894c3ff",
   "metadata": {
    "scrolled": true
   },
   "outputs": [
    {
     "name": "stdout",
     "output_type": "stream",
     "text": [
      "[[   0    1   31 ... 1410   12    3]\n",
      " [   0    1   55 ... 6872   24    4]\n",
      " [   0    1   29 ... 6887   36    3]\n",
      " ...\n",
      " [   0    1   26 ... 1345   18    5]\n",
      " [   1    0   20 ... 2718   24    1]\n",
      " [   0    1   47 ... 2353   21    1]]\n"
     ]
    }
   ],
   "source": [
    "# 在测试集上进行编码操作\n",
    "\n",
    "label_enc1 = LabelEncoder() # 将Sex的特征用数字编码\n",
    "one_hot_enc = OneHotEncoder() # 转换为独热编码\n",
    "Sex_tmp = label_enc1.fit_transform(X_test['Sex']).reshape(-1, 1) # reshape(-1, 1)保证为一维列向量\n",
    "Sex = one_hot_enc.fit_transform(Sex_tmp)\n",
    "Sex = Sex.todense()\n",
    "\n",
    "label_enc2 = LabelEncoder() # 将Housing的特征用数字编码\n",
    "X_test['Housing'] = label_enc2.fit_transform(X_test['Housing']).reshape(-1, 1)\n",
    "\n",
    "label_enc3 = LabelEncoder() # 将Saving accounts的特征用数字编码\n",
    "X_test['Saving accounts'] = label_enc3.fit_transform(X_test['Saving accounts']).reshape(-1, 1)\n",
    "\n",
    "label_enc4 = LabelEncoder() # 将Checking account的特征用数字编码\n",
    "X_test['Checking account'] = label_enc3.fit_transform(X_test['Checking account']).reshape(-1, 1)\n",
    "\n",
    "label_enc5 = LabelEncoder() # 将Purpose的特征用数字编码\n",
    "X_test['Purpose'] = label_enc5.fit_transform(X_test['Purpose']).reshape(-1, 1)\n",
    "\n",
    "X_test.drop(['Sex'],axis=1,inplace=True)\n",
    "X_test = np.hstack((Sex, X_test))\n",
    "X_test = X_test.astype(np.int32)\n",
    "print(X_test)"
   ]
  },
  {
   "cell_type": "code",
   "execution_count": 14,
   "id": "7920296b",
   "metadata": {},
   "outputs": [
    {
     "data": {
      "text/plain": [
       "array([[0.        , 1.        , 0.2037037 , ..., 0.05927237, 0.09090909,\n",
       "        0.42857143],\n",
       "       [0.        , 1.        , 0.64814815, ..., 0.36127391, 0.27272727,\n",
       "        0.57142857],\n",
       "       [0.        , 1.        , 0.16666667, ..., 0.36210328, 0.45454545,\n",
       "        0.42857143],\n",
       "       ...,\n",
       "       [0.        , 1.        , 0.11111111, ..., 0.05567843, 0.18181818,\n",
       "        0.71428571],\n",
       "       [1.        , 0.        , 0.        , ..., 0.1315935 , 0.27272727,\n",
       "        0.14285714],\n",
       "       [0.        , 1.        , 0.5       , ..., 0.11141214, 0.22727273,\n",
       "        0.14285714]])"
      ]
     },
     "execution_count": 14,
     "metadata": {},
     "output_type": "execute_result"
    }
   ],
   "source": [
    "#特征归一化\n",
    "scaler = MinMaxScaler()\n",
    "X_train = scaler.fit_transform(X_train) # 先拟合fit，再转换transform\n",
    "X_test = scaler.transform(X_test) # 根据之前fit的指标进行转换transform\n",
    "X_test"
   ]
  },
  {
   "cell_type": "code",
   "execution_count": 15,
   "id": "ab059936",
   "metadata": {},
   "outputs": [],
   "source": [
    "# KNN\n",
    "def kNN(param):  \n",
    "    k_values = param # k值来自param中的值\n",
    "    acc_list=[] # 存放accuracy值的列表\n",
    "    for k in k_values:\n",
    "        knn = KNeighborsClassifier(n_neighbors=k)\n",
    "        knn.fit(X_train, y_train) # 模型训练\n",
    "        y_pred = knn.predict(X_test)\n",
    "        acc = accuracy_score(y_test, y_pred) # 准确率\n",
    "        print('k={}，准确率：{:.3f}'.format(k, acc))\n",
    "        acc_list.append(acc)\n",
    "    \n",
    "    # 对于不同k值的模型准确率作图            \n",
    "    plt.title('kNN')\n",
    "    plt.plot(k_values, acc_list, color='darkorange')\n",
    "    plt.xticks(list(range(0, 20, 5)))\n",
    "    plt.xlabel('k value')\n",
    "    plt.ylabel('Accuracy')\n",
    "    plt.show() \n",
    "    \n",
    "    # 将结果输出到csv文件\n",
    "    accdf = pd.DataFrame({'k_value':param, 'acc_list':acc_list})\n",
    "    accdf.to_csv(\"kNN.csv\", index=False, sep=',')"
   ]
  },
  {
   "cell_type": "code",
   "execution_count": 16,
   "id": "481b26ee",
   "metadata": {},
   "outputs": [],
   "source": [
    "# 线性回归\n",
    "from sklearn.metrics import accuracy_score\n",
    "from sklearn.linear_model import LogisticRegression\n",
    "\n",
    "def LR(param):\n",
    "    c_values = param # c值来自param中的值\n",
    "    acc_list=[] # 存放accuracy值的列表\n",
    "    for c_value in c_values:\n",
    "        lr_model = LogisticRegression(C=c_value)\n",
    "        lr_model.fit(X_train, y_train) # 模型训练\n",
    "        y_pred = lr_model.predict(X_test)\n",
    "        acc = accuracy_score(y_test, y_pred) # 准确率\n",
    "        print('C={}，准确率：{:.3f}'.format(c_value, acc))\n",
    "        acc_list.append(acc)\n",
    "    \n",
    "    # 对于不同C值的模型准确率作图 \n",
    "    plt.title('LR')\n",
    "    plt.plot(c_values, acc_list, color='darkorange')\n",
    "    plt.xticks(list(range(0, 101, 5)))\n",
    "    plt.xlabel('c value')\n",
    "    plt.ylabel('Accuracy')\n",
    "    plt.show()   \n",
    "    \n",
    "    # 将结果输出到csv文件\n",
    "    accdf = pd.DataFrame({'c_value':param, 'acc_list':acc_list})\n",
    "    accdf.to_csv(\"LR.csv\", index=False, sep=',')"
   ]
  },
  {
   "cell_type": "code",
   "execution_count": 17,
   "id": "356c2fe6",
   "metadata": {},
   "outputs": [],
   "source": [
    "# 决策树\n",
    "from sklearn.tree import DecisionTreeClassifier\n",
    "def DT(param):\n",
    "    max_depth_values = param # maxdepth值来自param中的值\n",
    "    acc_list=[] # 存放accuracy值的列表\n",
    "    for max_depth_value in max_depth_values:\n",
    "        dt_model = DecisionTreeClassifier(max_depth=max_depth_value)\n",
    "        dt_model.fit(X_train, y_train) # 模型训练\n",
    "        y_pred = dt_model.predict(X_test)\n",
    "        acc = accuracy_score(y_test, y_pred) # 准确率\n",
    "        print('max_depth={}，准确率：{:.3f}'.format(max_depth_value, acc))\n",
    "        acc_list.append(acc)\n",
    "    \n",
    "    # 对于不同max_depth值的模型准确率作图\n",
    "    plt.title('DT')\n",
    "    plt.plot(max_depth_values, acc_list, color='darkorange')\n",
    "    plt.xticks(list(range(0, 20, 5)))\n",
    "    plt.xlabel('Max depth')\n",
    "    plt.ylabel('Accuracy')\n",
    "    plt.show()       \n",
    "    \n",
    "    # 将结果输出到csv文件\n",
    "    accdf = pd.DataFrame({'max_depth_values':param, 'acc_list':acc_list})\n",
    "    accdf.to_csv(\"DT.csv\", index=False, sep=',')"
   ]
  },
  {
   "cell_type": "code",
   "execution_count": 18,
   "id": "2e813b64",
   "metadata": {},
   "outputs": [],
   "source": [
    "# 支持向量机\n",
    "from sklearn.svm import SVC\n",
    "from sklearn.metrics import roc_curve\n",
    "def SVM(param):\n",
    "    c_values = param # c值来自param中的值\n",
    "    acc_list=[] # 存放accuracy值的列表\n",
    "    for c_value in c_values:\n",
    "        svm_model = SVC(C=c_value, kernel='rbf')\n",
    "        svm_model.fit(X_train, y_train) # 模型训练\n",
    "        y_pred = svm_model.predict(X_test)\n",
    "        acc = accuracy_score(y_test, y_pred) # 准确率\n",
    "        print('C={}，准确率：{:.3f}'.format(c_value, acc))\n",
    "        acc_list.append(acc)\n",
    "    \n",
    "    # 对于不同C值的模型准确率作图\n",
    "    plt.title('SVM')\n",
    "    plt.plot(c_values, acc_list, color='darkorange')\n",
    "    plt.xticks(list(range(0, 101, 5)))\n",
    "    plt.xlabel('C value')\n",
    "    plt.ylabel('Accuracy')\n",
    "    plt.show()\n",
    "    \n",
    "    # 将结果输出到csv文件\n",
    "    accdf = pd.DataFrame({'c_value':param, 'acc_list':acc_list})\n",
    "    accdf.to_csv(\"SVM.csv\", index=False, sep=',')"
   ]
  },
  {
   "cell_type": "code",
   "execution_count": 19,
   "id": "a921b1ec",
   "metadata": {},
   "outputs": [
    {
     "name": "stdout",
     "output_type": "stream",
     "text": [
      "k=5，准确率：0.588\n",
      "k=11，准确率：0.656\n",
      "k=15，准确率：0.634\n"
     ]
    },
    {
     "data": {
      "image/png": "[encoded data removed]",
      "text/plain": [
       "<Figure size 432x288 with 1 Axes>"
      ]
     },
     "metadata": {
      "needs_background": "light"
     },
     "output_type": "display_data"
    },
    {
     "name": "stdout",
     "output_type": "stream",
     "text": [
      "C=0.01，准确率：0.618\n",
      "C=1，准确率：0.656\n",
      "C=100，准确率：0.626\n"
     ]
    },
    {
     "data": {
      "image/png": "[encoded data removed]",
      "text/plain": [
       "<Figure size 432x288 with 1 Axes>"
      ]
     },
     "metadata": {
      "needs_background": "light"
     },
     "output_type": "display_data"
    },
    {
     "name": "stdout",
     "output_type": "stream",
     "text": [
      "max_depth=5，准确率：0.557\n",
      "max_depth=10，准确率：0.634\n",
      "max_depth=15，准确率：0.626\n"
     ]
    },
    {
     "data": {
      "image/png": "[encoded data removed]",
      "text/plain": [
       "<Figure size 432x288 with 1 Axes>"
      ]
     },
     "metadata": {
      "needs_background": "light"
     },
     "output_type": "display_data"
    },
    {
     "name": "stdout",
     "output_type": "stream",
     "text": [
      "C=0.01，准确率：0.611\n",
      "C=1，准确率：0.656\n",
      "C=100，准确率：0.603\n"
     ]
    },
    {
     "data": {
      "image/png": "[encoded data removed]",
      "text/plain": [
       "<Figure size 432x288 with 1 Axes>"
      ]
     },
     "metadata": {
      "needs_background": "light"
     },
     "output_type": "display_data"
    }
   ],
   "source": [
    "# 主程序\n",
    "def main():\n",
    "    model_name_param_dict={'kNN': [5, 11, 15],\n",
    "                           'LR': [0.01, 1, 100],\n",
    "                           'DT': [5, 10, 15],\n",
    "                           'SVM': [0.01, 1, 100]}\n",
    "    kNN(model_name_param_dict['kNN'])\n",
    "    LR(model_name_param_dict['LR'])\n",
    "    DT(model_name_param_dict['DT'])\n",
    "    SVM(model_name_param_dict['SVM'])\n",
    "    \n",
    "main()"
   ]
  },
  {
   "cell_type": "code",
   "execution_count": null,
   "id": "2cb50187",
   "metadata": {},
   "outputs": [],
   "source": []
  }
 ],
 "metadata": {
  "kernelspec": {
   "display_name": "Python 3 (ipykernel)",
   "language": "python",
   "name": "python3"
  },
  "language_info": {
   "codemirror_mode": {
    "name": "ipython",
    "version": 3
   },
   "file_extension": ".py",
   "mimetype": "text/x-python",
   "name": "python",
   "nbconvert_exporter": "python",
   "pygments_lexer": "ipython3",
   "version": "3.9.7"
  }
 },
 "nbformat": 4,
 "nbformat_minor": 5
}
